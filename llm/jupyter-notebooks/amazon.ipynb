{
 "cells": [
  {
   "cell_type": "code",
   "execution_count": 1,
   "id": "6322a580-4e01-47ef-ba8e-9937cf7da0f4",
   "metadata": {
    "execution": {
     "iopub.execute_input": "2024-05-08T14:37:59.234828Z",
     "iopub.status.busy": "2024-05-08T14:37:59.233965Z",
     "iopub.status.idle": "2024-05-08T14:38:02.162823Z",
     "shell.execute_reply": "2024-05-08T14:38:02.161526Z",
     "shell.execute_reply.started": "2024-05-08T14:37:59.234780Z"
    }
   },
   "outputs": [
    {
     "name": "stderr",
     "output_type": "stream",
     "text": [
      "[nltk_data] Downloading package averaged_perceptron_tagger to\n",
      "[nltk_data]     /home/marco/nltk_data...\n",
      "[nltk_data]   Package averaged_perceptron_tagger is already up-to-\n",
      "[nltk_data]       date!\n",
      "[nltk_data] Downloading package maxent_ne_chunker to\n",
      "[nltk_data]     /home/marco/nltk_data...\n",
      "[nltk_data]   Package maxent_ne_chunker is already up-to-date!\n",
      "[nltk_data] Downloading package words to /home/marco/nltk_data...\n",
      "[nltk_data]   Package words is already up-to-date!\n",
      "[nltk_data] Downloading package tagsets to /home/marco/nltk_data...\n",
      "[nltk_data]   Package tagsets is already up-to-date!\n",
      "[nltk_data] Downloading package vader_lexicon to\n",
      "[nltk_data]     /home/marco/nltk_data...\n",
      "[nltk_data]   Package vader_lexicon is already up-to-date!\n"
     ]
    },
    {
     "data": {
      "text/plain": [
       "True"
      ]
     },
     "execution_count": 1,
     "metadata": {},
     "output_type": "execute_result"
    }
   ],
   "source": [
    "import pandas as pd\n",
    "import numpy as np\n",
    "import matplotlib.pyplot as plt\n",
    "import seaborn as sns\n",
    "\n",
    "plt.style.use('ggplot')\n",
    "\n",
    "import nltk\n",
    "nltk.download('averaged_perceptron_tagger')\n",
    "nltk.download('maxent_ne_chunker')\n",
    "nltk.download('words')\n",
    "nltk.download('tagsets')\n",
    "nltk.download('vader_lexicon')"
   ]
  },
  {
   "cell_type": "markdown",
   "id": "7c2505f2-d960-4cb5-a2e5-ced5d29dca2c",
   "metadata": {},
   "source": [
    "## Get the data + EDA with nltk"
   ]
  },
  {
   "cell_type": "code",
   "execution_count": 2,
   "id": "45ceb047-2500-4f41-b8c3-5dde1cba9d95",
   "metadata": {
    "execution": {
     "iopub.execute_input": "2024-05-08T14:38:02.165792Z",
     "iopub.status.busy": "2024-05-08T14:38:02.164982Z",
     "iopub.status.idle": "2024-05-08T14:38:02.195953Z",
     "shell.execute_reply": "2024-05-08T14:38:02.194938Z",
     "shell.execute_reply.started": "2024-05-08T14:38:02.165737Z"
    }
   },
   "outputs": [
    {
     "name": "stdout",
     "output_type": "stream",
     "text": [
      "(100, 11)\n"
     ]
    }
   ],
   "source": [
    "from llm.config import DATA_DIR, IMAGES_DIR\n",
    "filepath = DATA_DIR.joinpath('amazon_reviews.csv')\n",
    "\n",
    "df = pd.read_csv(filepath, nrows=100)\n",
    "print(df.shape)"
   ]
  },
  {
   "cell_type": "code",
   "execution_count": 3,
   "id": "0e0853e9-e46e-4f3a-bd52-0eb7ab69f011",
   "metadata": {
    "execution": {
     "iopub.execute_input": "2024-05-08T14:38:02.198159Z",
     "iopub.status.busy": "2024-05-08T14:38:02.197367Z",
     "iopub.status.idle": "2024-05-08T14:38:02.825794Z",
     "shell.execute_reply": "2024-05-08T14:38:02.824158Z",
     "shell.execute_reply.started": "2024-05-08T14:38:02.198109Z"
    }
   },
   "outputs": [
    {
     "data": {
      "image/png": "[encoded data removed]",
      "text/plain": [
       "<Figure size 640x480 with 1 Axes>"
      ]
     },
     "metadata": {},
     "output_type": "display_data"
    }
   ],
   "source": [
    "df[['Score']].hist()\n",
    "plt.savefig(IMAGES_DIR.joinpath('score.jpeg'))"
   ]
  },
  {
   "cell_type": "code",
   "execution_count": 4,
   "id": "8f4e7f92-350e-42f9-941e-b2e1cfe637a8",
   "metadata": {
    "execution": {
     "iopub.execute_input": "2024-05-08T14:38:02.828756Z",
     "iopub.status.busy": "2024-05-08T14:38:02.827772Z",
     "iopub.status.idle": "2024-05-08T14:38:02.862195Z",
     "shell.execute_reply": "2024-05-08T14:38:02.860822Z",
     "shell.execute_reply.started": "2024-05-08T14:38:02.828695Z"
    }
   },
   "outputs": [
    {
     "name": "stdout",
     "output_type": "stream",
     "text": [
      "0 48\n",
      "2 21\n",
      "10 17\n",
      "15 16\n",
      "43 14\n"
     ]
    },
    {
     "data": {
      "text/plain": [
       "'Great mustard! Place in a ramekin next to cheeses and meats.  Works with anything!'"
      ]
     },
     "execution_count": 4,
     "metadata": {},
     "output_type": "execute_result"
    }
   ],
   "source": [
    "min_len = 100\n",
    "for i, row in df.iterrows():\n",
    "\n",
    "    new_len = len(row['Text'].split())\n",
    "    if new_len < min_len:\n",
    "        min_len = new_len\n",
    "\n",
    "        print(i, new_len)\n",
    "example = df['Text'][43]\n",
    "example"
   ]
  },
  {
   "cell_type": "code",
   "execution_count": 24,
   "id": "e46f4391-c1eb-4a0c-93b8-643881604170",
   "metadata": {
    "execution": {
     "iopub.execute_input": "2024-05-08T14:48:38.850577Z",
     "iopub.status.busy": "2024-05-08T14:48:38.850079Z",
     "iopub.status.idle": "2024-05-08T14:48:38.864550Z",
     "shell.execute_reply": "2024-05-08T14:48:38.863393Z",
     "shell.execute_reply.started": "2024-05-08T14:48:38.850532Z"
    }
   },
   "outputs": [
    {
     "data": {
      "text/plain": [
       "['Great',\n",
       " 'mustard',\n",
       " '!',\n",
       " 'Place',\n",
       " 'in',\n",
       " 'a',\n",
       " 'ramekin',\n",
       " 'next',\n",
       " 'to',\n",
       " 'cheeses']"
      ]
     },
     "execution_count": 24,
     "metadata": {},
     "output_type": "execute_result"
    }
   ],
   "source": [
    "# Tokenize the text\n",
    "\n",
    "tokens = nltk.word_tokenize(example)\n",
    "tokens[:10]"
   ]
  },
  {
   "cell_type": "code",
   "execution_count": 25,
   "id": "cb4afd3a-d412-4498-a668-163dd190ec2b",
   "metadata": {
    "execution": {
     "iopub.execute_input": "2024-05-08T14:48:39.581780Z",
     "iopub.status.busy": "2024-05-08T14:48:39.580836Z",
     "iopub.status.idle": "2024-05-08T14:48:39.593093Z",
     "shell.execute_reply": "2024-05-08T14:48:39.591964Z",
     "shell.execute_reply.started": "2024-05-08T14:48:39.581725Z"
    }
   },
   "outputs": [
    {
     "data": {
      "text/plain": [
       "[('Great', 'NNP'),\n",
       " ('mustard', 'NN'),\n",
       " ('!', '.'),\n",
       " ('Place', 'NN'),\n",
       " ('in', 'IN'),\n",
       " ('a', 'DT'),\n",
       " ('ramekin', 'JJ'),\n",
       " ('next', 'JJ'),\n",
       " ('to', 'TO'),\n",
       " ('cheeses', 'NNS')]"
      ]
     },
     "execution_count": 25,
     "metadata": {},
     "output_type": "execute_result"
    }
   ],
   "source": [
    "# Part of Speech tagger\n",
    "\n",
    "tagged = nltk.pos_tag(tokens)\n",
    "tagged[:10]"
   ]
  },
  {
   "cell_type": "code",
   "execution_count": 26,
   "id": "c2571561-ae42-4a89-92f7-6c8d613f4ad8",
   "metadata": {
    "execution": {
     "iopub.execute_input": "2024-05-08T14:48:40.200667Z",
     "iopub.status.busy": "2024-05-08T14:48:40.199878Z",
     "iopub.status.idle": "2024-05-08T14:48:40.206314Z",
     "shell.execute_reply": "2024-05-08T14:48:40.205177Z",
     "shell.execute_reply.started": "2024-05-08T14:48:40.200610Z"
    }
   },
   "outputs": [],
   "source": [
    "## Complete list of tags\n",
    "# nltk.help.upenn_tagset()"
   ]
  },
  {
   "cell_type": "code",
   "execution_count": 27,
   "id": "1c70d291-ee98-4cf2-8724-0198f8e41de5",
   "metadata": {
    "execution": {
     "iopub.execute_input": "2024-05-08T14:48:42.137077Z",
     "iopub.status.busy": "2024-05-08T14:48:42.135976Z",
     "iopub.status.idle": "2024-05-08T14:48:42.149483Z",
     "shell.execute_reply": "2024-05-08T14:48:42.148146Z",
     "shell.execute_reply.started": "2024-05-08T14:48:42.136980Z"
    }
   },
   "outputs": [],
   "source": [
    "# Groups tokens into chunk of text\n",
    "entities = nltk.chunk.ne_chunk(tagged)\n",
    "out = IMAGES_DIR.joinpath('score')\n"
   ]
  },
  {
   "cell_type": "code",
   "execution_count": 28,
   "id": "f7ee7dbf-0289-4011-852c-e81f66cc12d0",
   "metadata": {
    "execution": {
     "iopub.execute_input": "2024-05-08T14:48:43.350451Z",
     "iopub.status.busy": "2024-05-08T14:48:43.349414Z",
     "iopub.status.idle": "2024-05-08T14:48:43.450788Z",
     "shell.execute_reply": "2024-05-08T14:48:43.447814Z",
     "shell.execute_reply.started": "2024-05-08T14:48:43.350404Z"
    }
   },
   "outputs": [
    {
     "data": {
      "text/plain": [
       "'/home/marco/Desktop/ATOM/LLM/llm/images/score.png'"
      ]
     },
     "execution_count": 28,
     "metadata": {},
     "output_type": "execute_result"
    }
   ],
   "source": [
    "from nltk import Tree\n",
    "from graphviz import Digraph\n",
    "\n",
    "def add_edges(tree, dot=None, parent=None):\n",
    "    \"\"\"\n",
    "    Recursively traverse the NLTK tree, adding nodes and edges to the Graphviz Digraph.\n",
    "    Args:\n",
    "        tree (nltk.Tree): The tree to convert.\n",
    "        dot (graphviz.Digraph): The Graphviz Digraph for rendering the tree.\n",
    "        parent (str): The node ID of the parent to this subtree.\n",
    "    Returns:\n",
    "        graphviz.Digraph: The updated Graphviz Digraph with nodes and edges added.\n",
    "    \"\"\"\n",
    "    if dot is None:\n",
    "        dot = Digraph(comment='NLTK Tree')\n",
    "\n",
    "    node_id = str(id(tree))  # Use Python's id function to get a unique identifier\n",
    "\n",
    "    # Determine the label based on whether it's a leaf node\n",
    "    if isinstance(tree[0], tuple):  # Check if the first child is a tuple (indicating leaf nodes)\n",
    "        label = '{}: {}'.format(tree.label(), ' '.join(['{}/{}'.format(word, tag) for word, tag in tree]))\n",
    "    else:\n",
    "        label = tree.label()\n",
    "\n",
    "    dot.node(node_id, label=label)\n",
    "\n",
    "    # Create edges from the parent node to this node\n",
    "    if parent:\n",
    "        dot.edge(parent, node_id)\n",
    "\n",
    "    # Recursively add child nodes\n",
    "    for child in tree:\n",
    "        if isinstance(child, Tree):\n",
    "            add_edges(child, dot, node_id)\n",
    "\n",
    "    return dot\n",
    "\n",
    "# Generate DOT format and render it\n",
    "dot = add_edges(entities)\n",
    "dot.format = 'png'\n",
    "dot.render(out)  # This saves the output as 'entities_tree_output.png'\n"
   ]
  },
  {
   "cell_type": "code",
   "execution_count": 16,
   "id": "e97de7bc-ef0c-4173-b3c0-c1892bade4f8",
   "metadata": {
    "execution": {
     "iopub.execute_input": "2024-05-08T14:40:37.134129Z",
     "iopub.status.busy": "2024-05-08T14:40:37.132626Z",
     "iopub.status.idle": "2024-05-08T14:40:37.141895Z",
     "shell.execute_reply": "2024-05-08T14:40:37.140916Z",
     "shell.execute_reply.started": "2024-05-08T14:40:37.134061Z"
    }
   },
   "outputs": [
    {
     "data": {
      "text/plain": [
       "'S'"
      ]
     },
     "execution_count": 16,
     "metadata": {},
     "output_type": "execute_result"
    }
   ],
   "source": [
    "entities.label()"
   ]
  },
  {
   "cell_type": "code",
   "execution_count": 14,
   "id": "295cf549-a8da-46d2-a3ad-c7c7cf09c2de",
   "metadata": {
    "execution": {
     "iopub.execute_input": "2024-05-08T14:40:21.289473Z",
     "iopub.status.busy": "2024-05-08T14:40:21.288965Z",
     "iopub.status.idle": "2024-05-08T14:40:21.296026Z",
     "shell.execute_reply": "2024-05-08T14:40:21.294953Z",
     "shell.execute_reply.started": "2024-05-08T14:40:21.289429Z"
    }
   },
   "outputs": [
    {
     "data": {
      "text/plain": [
       "[('Great', 'NNP'),\n",
       " ('mustard', 'NN'),\n",
       " ('!', '.'),\n",
       " ('Place', 'NN'),\n",
       " ('in', 'IN'),\n",
       " ('a', 'DT'),\n",
       " ('ramekin', 'JJ'),\n",
       " ('next', 'JJ'),\n",
       " ('to', 'TO'),\n",
       " ('cheeses', 'NNS'),\n",
       " ('and', 'CC'),\n",
       " ('meats', 'NNS'),\n",
       " ('.', '.'),\n",
       " ('Works', 'VBZ'),\n",
       " ('with', 'IN'),\n",
       " ('anything', 'NN'),\n",
       " ('!', '.')]"
      ]
     },
     "execution_count": 14,
     "metadata": {},
     "output_type": "execute_result"
    }
   ],
   "source": [
    "entities.leaves()"
   ]
  },
  {
   "cell_type": "code",
   "execution_count": null,
   "id": "eb44692a-2568-457d-8823-47b27f20fe0c",
   "metadata": {
    "execution": {
     "iopub.status.busy": "2024-05-08T14:38:05.836110Z",
     "iopub.status.idle": "2024-05-08T14:38:05.836936Z",
     "shell.execute_reply": "2024-05-08T14:38:05.836573Z",
     "shell.execute_reply.started": "2024-05-08T14:38:05.836538Z"
    }
   },
   "outputs": [],
   "source": [
    "# Need Tkinter\n",
    "entities.draw()"
   ]
  },
  {
   "cell_type": "code",
   "execution_count": null,
   "id": "74919949-a661-4dc6-a36e-3679d05ebcaf",
   "metadata": {
    "execution": {
     "iopub.status.busy": "2024-05-08T14:38:05.840027Z",
     "iopub.status.idle": "2024-05-08T14:38:05.840891Z",
     "shell.execute_reply": "2024-05-08T14:38:05.840516Z",
     "shell.execute_reply.started": "2024-05-08T14:38:05.840459Z"
    }
   },
   "outputs": [],
   "source": [
    "from nltk.draw.util import CanvasFrame\n",
    "from nltk.draw import TreeWidget\n",
    "\n",
    "# Create a canvas frame\n",
    "cf = CanvasFrame()\n",
    "tc = TreeWidget(cf.canvas(), entities)\n",
    "cf.add_widget(tc, 10, 10)  # (10,10) offsets\n",
    "cf.print_to_file(IMAGES_DIR.joinpath('entities.ps'))  # Save as PostScript file\n",
    "cf.destroy()\n",
    "\n",
    "## Convert PostScript to PNG using Ghostscript or another tool\n",
    "#import os\n",
    "#os.system(\"gs -sDEVICE=pngalpha -sOutputFile=tree.png -r144 -dBATCH -dNOPAUSE tree.ps\")\n"
   ]
  },
  {
   "cell_type": "code",
   "execution_count": null,
   "id": "19cf6480-678b-4363-9afe-93e14f8f78b4",
   "metadata": {
    "execution": {
     "iopub.status.busy": "2024-05-08T14:38:05.842119Z",
     "iopub.status.idle": "2024-05-08T14:38:05.842770Z",
     "shell.execute_reply": "2024-05-08T14:38:05.842446Z",
     "shell.execute_reply.started": "2024-05-08T14:38:05.842415Z"
    }
   },
   "outputs": [],
   "source": [
    "nltk.help.upenn_tagset('DT')"
   ]
  },
  {
   "cell_type": "markdown",
   "id": "ebf99a6c-fb3f-4c86-b2fe-d1c645751d55",
   "metadata": {},
   "source": [
    "# VADER sentiment scoring\n",
    "\n",
    "VADER (Valence Aware Dictionary and sEntiment Reasoner ) is a lexicon and rule-based sentiment analysis tool designed specifically for social media and other online texts. It evaluates the sentiment of words and phrases within context, applying grammatical rules and a sentiment lexicon.\n",
    "\n",
    "**Pros**\n",
    "- High Sensitivity to Context: Effectively interprets context like capitalization, intensifiers, and emoticons.\n",
    "- Specific to Social Media: Optimized for the nuances of social media text, including slang and unconventional language.\n",
    "- Fast and Efficient: Suitable for real-time processing due to its straightforward computational model.\n",
    "\n",
    "**Cons**\n",
    "- Limited to Lexicon: Relies on a predefined list of words, which may miss sentiments expressed through novel slang or expressions.\n",
    "- Less Effective Outside Social Media: May not perform as well with formal texts or content significantly different from typical social media discourse.\n",
    "- Language Dependency: Primarily developed for English, with its effectiveness reduced in other languages."
   ]
  },
  {
   "cell_type": "code",
   "execution_count": null,
   "id": "5f5b3ee0-dae4-4b61-b261-80432b25b59c",
   "metadata": {
    "execution": {
     "iopub.status.busy": "2024-05-08T14:38:05.847802Z",
     "iopub.status.idle": "2024-05-08T14:38:05.848485Z",
     "shell.execute_reply": "2024-05-08T14:38:05.848183Z",
     "shell.execute_reply.started": "2024-05-08T14:38:05.848156Z"
    }
   },
   "outputs": [],
   "source": [
    "from nltk.sentiment import SentimentIntensityAnalyzer\n",
    "from tqdm.notebook import tqdm\n",
    "\n",
    "sia = SentimentIntensityAnalyzer()"
   ]
  },
  {
   "cell_type": "markdown",
   "id": "439564a7-3de4-446d-9aaf-555c3b16bba1",
   "metadata": {},
   "source": [
    "# Examples of polarity scores"
   ]
  },
  {
   "cell_type": "code",
   "execution_count": null,
   "id": "e01da8c2-c194-46cc-bedb-7e7d341168af",
   "metadata": {
    "execution": {
     "iopub.status.busy": "2024-05-08T14:38:05.849629Z",
     "iopub.status.idle": "2024-05-08T14:38:05.850219Z",
     "shell.execute_reply": "2024-05-08T14:38:05.849940Z",
     "shell.execute_reply.started": "2024-05-08T14:38:05.849914Z"
    }
   },
   "outputs": [],
   "source": [
    "# Very positive\n",
    "\n",
    "sia.polarity_scores('I am the happiest person ever')"
   ]
  },
  {
   "cell_type": "code",
   "execution_count": null,
   "id": "2c08d1e4-6bad-4b2a-88c9-47fbe0626733",
   "metadata": {
    "execution": {
     "iopub.status.busy": "2024-05-08T14:38:05.851302Z",
     "iopub.status.idle": "2024-05-08T14:38:05.851885Z",
     "shell.execute_reply": "2024-05-08T14:38:05.851608Z",
     "shell.execute_reply.started": "2024-05-08T14:38:05.851581Z"
    }
   },
   "outputs": [],
   "source": [
    "# Very negative \n",
    "\n",
    "sia.polarity_scores('This is the worst day of my life')"
   ]
  },
  {
   "cell_type": "code",
   "execution_count": null,
   "id": "bd91ee1e-666b-4fbe-8d26-bf03d5d6f44d",
   "metadata": {
    "execution": {
     "iopub.status.busy": "2024-05-08T14:38:05.852994Z",
     "iopub.status.idle": "2024-05-08T14:38:05.853587Z",
     "shell.execute_reply": "2024-05-08T14:38:05.853307Z",
     "shell.execute_reply.started": "2024-05-08T14:38:05.853281Z"
    }
   },
   "outputs": [],
   "source": [
    "# polarity of example comment \n",
    "\n",
    "sia.polarity_scores(example)"
   ]
  },
  {
   "cell_type": "code",
   "execution_count": null,
   "id": "6aea390d-67cc-46d7-8e10-50034da667ba",
   "metadata": {
    "execution": {
     "iopub.status.busy": "2024-05-08T14:38:05.854681Z",
     "iopub.status.idle": "2024-05-08T14:38:05.855290Z",
     "shell.execute_reply": "2024-05-08T14:38:05.855002Z",
     "shell.execute_reply.started": "2024-05-08T14:38:05.854977Z"
    }
   },
   "outputs": [],
   "source": [
    "# Run the polarity score on the entire dataset\n",
    "\n",
    "results = {}\n",
    "for i, row in tqdm(df.iterrows(), total=len(df)):\n",
    "    text = row['Text']\n",
    "    myid = row['Id']\n",
    "    results[myid] = sia.polarity_scores(text)"
   ]
  },
  {
   "cell_type": "code",
   "execution_count": null,
   "id": "001727e0-e079-4fe3-b77f-839fd4de5904",
   "metadata": {
    "execution": {
     "iopub.status.busy": "2024-05-08T14:38:05.861115Z",
     "iopub.status.idle": "2024-05-08T14:38:05.861767Z",
     "shell.execute_reply": "2024-05-08T14:38:05.861475Z",
     "shell.execute_reply.started": "2024-05-08T14:38:05.861447Z"
    }
   },
   "outputs": [],
   "source": [
    "# Reshape results dict into pandas DF and merge with data DF\n",
    "\n",
    "vaders = pd.DataFrame(results).T\n",
    "vaders = vaders.reset_index().rename(columns={'index': 'Id'})\n",
    "vaders = vaders.merge(df, how='left')"
   ]
  },
  {
   "cell_type": "markdown",
   "id": "c53df0a7-0177-467a-b6ce-d33abffc0aae",
   "metadata": {},
   "source": [
    "### Plot VADER results"
   ]
  },
  {
   "cell_type": "code",
   "execution_count": null,
   "id": "2f7d0e6f-0dab-41f0-8267-5d5193cdadd4",
   "metadata": {
    "execution": {
     "iopub.status.busy": "2024-05-08T14:38:05.862838Z",
     "iopub.status.idle": "2024-05-08T14:38:05.863400Z",
     "shell.execute_reply": "2024-05-08T14:38:05.863135Z",
     "shell.execute_reply.started": "2024-05-08T14:38:05.863110Z"
    }
   },
   "outputs": [],
   "source": [
    "# Plot the compound score\n",
    "\n",
    "fig, ax = plt.subplots(2, 2, sharex=True, sharey=True)\n",
    "\n",
    "for (count, score) in enumerate(['neg', 'neu', 'pos', 'compound']):\n",
    "    cc, rr = count //2, count % 2\n",
    "    sns.barplot(data=vaders, x='Score', y=score, ax=ax[cc,rr])\n",
    "    ax[cc, rr].set_title(f'Score:\"{score}\"')\n",
    "\n",
    "plt.savefig(IMAGES_DIR.joinpath('vader_scores.jpeg'))"
   ]
  },
  {
   "cell_type": "markdown",
   "id": "b532a973-31a6-46e8-85c3-e90ddf210d45",
   "metadata": {},
   "source": [
    "# Roberta Pretrained Model\n",
    "\n",
    "**BERT** (Bidirectional Encoder Representations from Transformers) is a model developed by Google, using the Transformer architecture, particularly the attention mechanism, to process words in relation to all other words in a sentence, rather than one-by-one sequentially. \n",
    "\n",
    "**RoBERTa** (Robustly Optimized BERT Approach) builds upon BERT with several key improvements and optimizations that boost performance on a wide array of natural language processing tasks.\n",
    "\n",
    "I will use a pretrained model (cardiffnlp/twitter-roberta-base-sentiment)\n"
   ]
  },
  {
   "cell_type": "code",
   "execution_count": null,
   "id": "9f67e7cf-5841-48f7-b46a-00c5e39a1a8a",
   "metadata": {
    "execution": {
     "iopub.status.busy": "2024-05-08T14:38:05.864425Z",
     "iopub.status.idle": "2024-05-08T14:38:05.865034Z",
     "shell.execute_reply": "2024-05-08T14:38:05.864753Z",
     "shell.execute_reply.started": "2024-05-08T14:38:05.864727Z"
    }
   },
   "outputs": [],
   "source": [
    "from llm.core.amazon import polarity_scores_roberta\n",
    "from llm.core.amazon import polarity_scores_vader"
   ]
  },
  {
   "cell_type": "code",
   "execution_count": null,
   "id": "33db6331-92f8-4331-a90c-13846605283b",
   "metadata": {
    "execution": {
     "iopub.status.busy": "2024-05-08T14:38:05.866054Z",
     "iopub.status.idle": "2024-05-08T14:38:05.866756Z",
     "shell.execute_reply": "2024-05-08T14:38:05.866439Z",
     "shell.execute_reply.started": "2024-05-08T14:38:05.866411Z"
    }
   },
   "outputs": [],
   "source": [
    "from transformers import AutoTokenizer\n",
    "from transformers import AutoModelForSequenceClassification\n",
    "\n",
    "MODEL = f\"cardiffnlp/twitter-roberta-base-sentiment\"\n",
    "tokenizer = AutoTokenizer.from_pretrained(MODEL)\n",
    "model = AutoModelForSequenceClassification.from_pretrained(MODEL)"
   ]
  },
  {
   "cell_type": "code",
   "execution_count": null,
   "id": "86935236-f17a-433f-a999-fddff61ccb2d",
   "metadata": {
    "execution": {
     "iopub.status.busy": "2024-05-08T14:38:05.870917Z",
     "iopub.status.idle": "2024-05-08T14:38:05.871573Z",
     "shell.execute_reply": "2024-05-08T14:38:05.871285Z",
     "shell.execute_reply.started": "2024-05-08T14:38:05.871256Z"
    }
   },
   "outputs": [],
   "source": [
    "# roberta_results \n",
    "polarity_scores_roberta(example, tokenizer, model)"
   ]
  },
  {
   "cell_type": "code",
   "execution_count": null,
   "id": "d00e0071-209a-432c-938c-cacfd30bde98",
   "metadata": {
    "execution": {
     "iopub.status.busy": "2024-05-08T14:38:05.873432Z",
     "iopub.status.idle": "2024-05-08T14:38:05.874024Z",
     "shell.execute_reply": "2024-05-08T14:38:05.873772Z",
     "shell.execute_reply.started": "2024-05-08T14:38:05.873747Z"
    }
   },
   "outputs": [],
   "source": [
    "# vader_results \n",
    "polarity_scores_vader(example)"
   ]
  },
  {
   "cell_type": "code",
   "execution_count": null,
   "id": "c82b1931-137a-468c-bc31-8d73950d63f1",
   "metadata": {
    "execution": {
     "iopub.status.busy": "2024-05-08T14:38:05.875697Z",
     "iopub.status.idle": "2024-05-08T14:38:05.876564Z",
     "shell.execute_reply": "2024-05-08T14:38:05.876310Z",
     "shell.execute_reply.started": "2024-05-08T14:38:05.876284Z"
    }
   },
   "outputs": [],
   "source": [
    "# Calculate both results for the whole dataframe \n",
    "\n",
    "results = {}\n",
    "for i, row in tqdm(df.iterrows(), total=len(df)):\n",
    "    try:\n",
    "        text = row['Text']\n",
    "        myid = row['Id']\n",
    "        vader_results = polarity_scores_vader(text)\n",
    "        roberta_result = polarity_scores_roberta(text, tokenizer, model)\n",
    "        results[myid] = {**vader_results, **roberta_result}\n",
    "    except:\n",
    "        print(i, myid, 'excluding since too big')"
   ]
  },
  {
   "cell_type": "code",
   "execution_count": null,
   "id": "182c0733-d557-4799-b312-3346b34fc1bd",
   "metadata": {
    "execution": {
     "iopub.status.busy": "2024-05-08T14:38:05.880522Z",
     "iopub.status.idle": "2024-05-08T14:38:05.881767Z",
     "shell.execute_reply": "2024-05-08T14:38:05.881468Z",
     "shell.execute_reply.started": "2024-05-08T14:38:05.881439Z"
    }
   },
   "outputs": [],
   "source": [
    "results_df = pd.DataFrame(results).T\n",
    "results_df = results_df.reset_index().rename(columns={'index': 'Id'})\n",
    "results_df = results_df.merge(df, how='left')"
   ]
  },
  {
   "cell_type": "code",
   "execution_count": null,
   "id": "c205297a-3bca-4277-b041-5c24132e7cd5",
   "metadata": {
    "execution": {
     "iopub.status.busy": "2024-05-08T14:38:05.883685Z",
     "iopub.status.idle": "2024-05-08T14:38:05.884593Z",
     "shell.execute_reply": "2024-05-08T14:38:05.884329Z",
     "shell.execute_reply.started": "2024-05-08T14:38:05.884301Z"
    }
   },
   "outputs": [],
   "source": [
    "sns.pairplot(\n",
    "    data=results_df,\n",
    "    vars=['vader_neg', 'vader_neu', 'vader_pos',\n",
    "          'roberta_neg', 'roberta_neu', 'roberta_pos'],\n",
    "    hue='Score',\n",
    "    palette='tab10', \n",
    "    ).savefig(IMAGES_DIR.joinpath('vader_vs_roberta.jpeg'))"
   ]
  },
  {
   "cell_type": "markdown",
   "id": "33943ebf-93ce-4a96-a61b-a4859125c480",
   "metadata": {},
   "source": [
    "# Review Predictions\n",
    "\n",
    "Let's have a look at false positive and false negatives for the two models:\n",
    "- False positives: negative reviews that are predicted to be positive\n",
    "- False negatives: positive reviews that are predicted as negative"
   ]
  },
  {
   "cell_type": "code",
   "execution_count": null,
   "id": "6125bc3d-efc2-4450-9c2d-1af4d96f53e3",
   "metadata": {
    "execution": {
     "iopub.status.busy": "2024-05-08T14:38:05.886330Z",
     "iopub.status.idle": "2024-05-08T14:38:05.887196Z",
     "shell.execute_reply": "2024-05-08T14:38:05.886938Z",
     "shell.execute_reply.started": "2024-05-08T14:38:05.886911Z"
    }
   },
   "outputs": [],
   "source": [
    "# False positive Roberta\n",
    "results_df.query('Score == 1') \\\n",
    "    .sort_values('roberta_pos', ascending=False)['Text'].values[0]"
   ]
  },
  {
   "cell_type": "code",
   "execution_count": null,
   "id": "1da3aec0-ce8c-48ae-9bd4-c20833e54c6f",
   "metadata": {
    "execution": {
     "iopub.status.busy": "2024-05-08T14:38:05.889003Z",
     "iopub.status.idle": "2024-05-08T14:38:05.889888Z",
     "shell.execute_reply": "2024-05-08T14:38:05.889620Z",
     "shell.execute_reply.started": "2024-05-08T14:38:05.889592Z"
    }
   },
   "outputs": [],
   "source": [
    "# False positive VADER\n",
    "results_df.query('Score == 1') \\\n",
    "    .sort_values('vader_pos', ascending=False)['Text'].values[0]"
   ]
  },
  {
   "cell_type": "code",
   "execution_count": null,
   "id": "3af9197b-cafd-48fc-b095-b76ed7bded28",
   "metadata": {
    "execution": {
     "iopub.status.busy": "2024-05-08T14:38:05.891426Z",
     "iopub.status.idle": "2024-05-08T14:38:05.892244Z",
     "shell.execute_reply": "2024-05-08T14:38:05.891988Z",
     "shell.execute_reply.started": "2024-05-08T14:38:05.891964Z"
    }
   },
   "outputs": [],
   "source": [
    "# False negative Roberta\n",
    "results_df.query('Score == 5') \\\n",
    "    .sort_values('roberta_neg', ascending=False)['Text'].values[0]"
   ]
  },
  {
   "cell_type": "code",
   "execution_count": null,
   "id": "74ad205c-bc77-4b08-aa3e-c8b7f6b0c9ba",
   "metadata": {
    "execution": {
     "iopub.status.busy": "2024-05-08T14:38:05.893649Z",
     "iopub.status.idle": "2024-05-08T14:38:05.894488Z",
     "shell.execute_reply": "2024-05-08T14:38:05.894236Z",
     "shell.execute_reply.started": "2024-05-08T14:38:05.894210Z"
    }
   },
   "outputs": [],
   "source": [
    "# False negative VADER\n",
    "results_df.query('Score == 5') \\\n",
    "    .sort_values('vader_neg', ascending=False)['Text'].values[0]"
   ]
  },
  {
   "cell_type": "code",
   "execution_count": null,
   "id": "ce653c70-2dfe-4a4a-97ce-5581ff040084",
   "metadata": {
    "execution": {
     "iopub.status.busy": "2024-05-08T14:38:05.895902Z",
     "iopub.status.idle": "2024-05-08T14:38:05.896789Z",
     "shell.execute_reply": "2024-05-08T14:38:05.896478Z",
     "shell.execute_reply.started": "2024-05-08T14:38:05.896452Z"
    }
   },
   "outputs": [],
   "source": [
    "results_df.columns"
   ]
  },
  {
   "cell_type": "markdown",
   "id": "3a5ed93e-4371-4016-a2da-46d6fab65f1e",
   "metadata": {},
   "source": [
    "# Correlation Matrix\n",
    "\n",
    "Another way to represent the accuracy of our model is to calcuate the correlation matrix and print it as a heat map."
   ]
  },
  {
   "cell_type": "code",
   "execution_count": null,
   "id": "7f80add3-9969-4742-917b-db4fb9c779bf",
   "metadata": {
    "execution": {
     "iopub.status.busy": "2024-05-08T14:38:05.898302Z",
     "iopub.status.idle": "2024-05-08T14:38:05.899212Z",
     "shell.execute_reply": "2024-05-08T14:38:05.898945Z",
     "shell.execute_reply.started": "2024-05-08T14:38:05.898916Z"
    }
   },
   "outputs": [],
   "source": [
    "corr_matrix = results_df[[\n",
    "    'Score',\n",
    "    'vader_neg', 'vader_neu', 'vader_pos', 'vader_compound',\n",
    "    'roberta_neg', 'roberta_neu', 'roberta_pos'\n",
    "]].corr()\n",
    "\n",
    "# Draw the heatmap\n",
    "sns.heatmap(\n",
    "    corr_matrix, \n",
    "    annot=True, \n",
    "    fmt=\".2f\", \n",
    "    cmap='coolwarm', \n",
    "    cbar_kws={'label': 'Correlation coefficient'})\n",
    "\n",
    "# Add titles and labels\n",
    "plt.title('Correlation Matrix')\n",
    "plt.savefig(IMAGES_DIR.joinpath('correlation_matrix.jpeg'))"
   ]
  },
  {
   "cell_type": "markdown",
   "id": "7a5aa664-3643-4478-930b-eb904dbe2d9a",
   "metadata": {},
   "source": [
    "# Confusion Matrix\n",
    "\n",
    "A confusion matrix can tell us how many scores are predicted correctly. To do so, we first need to map the results from our models into integers. "
   ]
  },
  {
   "cell_type": "code",
   "execution_count": null,
   "id": "b280ee73-7044-404e-9840-9383ead798ef",
   "metadata": {
    "execution": {
     "iopub.status.busy": "2024-05-08T14:38:05.900796Z",
     "iopub.status.idle": "2024-05-08T14:38:05.901940Z",
     "shell.execute_reply": "2024-05-08T14:38:05.901479Z",
     "shell.execute_reply.started": "2024-05-08T14:38:05.901448Z"
    }
   },
   "outputs": [],
   "source": [
    "from llm.core.amazon import map_scores\n",
    "\n",
    "results_df['roberta_int'] = results_df.apply(lambda row: map_scores(row, 'roberta'), axis=1)\n",
    "results_df['vader_int'] = results_df.apply(lambda row: map_scores(row, 'vader'), axis=1)"
   ]
  },
  {
   "cell_type": "code",
   "execution_count": null,
   "id": "556fe54c-8e4c-4138-8a50-bd748100b272",
   "metadata": {
    "execution": {
     "iopub.status.busy": "2024-05-08T14:38:05.903937Z",
     "iopub.status.idle": "2024-05-08T14:38:05.905000Z",
     "shell.execute_reply": "2024-05-08T14:38:05.904609Z",
     "shell.execute_reply.started": "2024-05-08T14:38:05.904578Z"
    }
   },
   "outputs": [],
   "source": [
    "from sklearn.metrics import confusion_matrix\n",
    "\n",
    "cm = confusion_matrix(results_df['Score'], results_df['roberta_int'])\n",
    "sns.heatmap(cm, annot=True, fmt=\"d\", cmap='Blues')\n",
    "\n",
    "# Add titles and labels\n",
    "plt.title('Confusion Matrix')\n",
    "plt.savefig(IMAGES_DIR.joinpath('confusion_matrix.jpeg'))"
   ]
  },
  {
   "cell_type": "markdown",
   "id": "3b32b055-6971-4cb3-bc54-95ac22bdf238",
   "metadata": {},
   "source": [
    "# Transformers Pipeline\n",
    "\n",
    "Quick & easy way to run sentiment predictions"
   ]
  },
  {
   "cell_type": "code",
   "execution_count": null,
   "id": "507ee204-6f09-41dd-8baf-10de0ab16552",
   "metadata": {
    "execution": {
     "iopub.status.busy": "2024-05-08T14:38:05.906831Z",
     "iopub.status.idle": "2024-05-08T14:38:05.907815Z",
     "shell.execute_reply": "2024-05-08T14:38:05.907537Z",
     "shell.execute_reply.started": "2024-05-08T14:38:05.907507Z"
    }
   },
   "outputs": [],
   "source": [
    "from transformers import pipeline\n",
    "\n",
    "sent_pipeline = pipeline(\"sentiment-analysis\")"
   ]
  },
  {
   "cell_type": "code",
   "execution_count": null,
   "id": "bff7679d-2152-497d-a1b6-d261865ddce9",
   "metadata": {
    "execution": {
     "iopub.status.busy": "2024-05-08T14:38:05.909783Z",
     "iopub.status.idle": "2024-05-08T14:38:05.911343Z",
     "shell.execute_reply": "2024-05-08T14:38:05.910965Z",
     "shell.execute_reply.started": "2024-05-08T14:38:05.910899Z"
    }
   },
   "outputs": [],
   "source": [
    "sent_pipeline(example)"
   ]
  },
  {
   "cell_type": "code",
   "execution_count": null,
   "id": "963e0f05-0f5a-4722-8b6a-71555a728c04",
   "metadata": {},
   "outputs": [],
   "source": []
  }
 ],
 "metadata": {
  "kernelspec": {
   "display_name": "Python 3 (ipykernel)",
   "language": "python",
   "name": "python3"
  },
  "language_info": {
   "codemirror_mode": {
    "name": "ipython",
    "version": 3
   },
   "file_extension": ".py",
   "mimetype": "text/x-python",
   "name": "python",
   "nbconvert_exporter": "python",
   "pygments_lexer": "ipython3",
   "version": "3.10.12"
  }
 },
 "nbformat": 4,
 "nbformat_minor": 5
}
