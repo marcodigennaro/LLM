{
 "cells": [
  {
   "cell_type": "markdown",
   "id": "961f1b19-06d5-4439-8f61-9928c44bbe85",
   "metadata": {},
   "source": [
    "# Recursive Neural Network"
   ]
  },
  {
   "cell_type": "markdown",
   "id": "dcf221a0-3a89-4a67-8f8f-8381e3a9ca11",
   "metadata": {},
   "source": [
    "### Import libraries and data"
   ]
  },
  {
   "cell_type": "code",
   "execution_count": 1,
   "id": "e8305d1f-a923-40df-bf08-0ecdcaae9195",
   "metadata": {
    "execution": {
     "iopub.execute_input": "2024-05-09T09:23:13.320259Z",
     "iopub.status.busy": "2024-05-09T09:23:13.319810Z",
     "iopub.status.idle": "2024-05-09T09:23:13.496486Z",
     "shell.execute_reply": "2024-05-09T09:23:13.495674Z",
     "shell.execute_reply.started": "2024-05-09T09:23:13.320215Z"
    }
   },
   "outputs": [],
   "source": [
    "import numpy as np\n",
    "import collections\n",
    "from llm.config import DATA_DIR, IMAGES_DIR"
   ]
  },
  {
   "cell_type": "markdown",
   "id": "bd8575a2-91f0-4b1c-a9b1-855ac741da94",
   "metadata": {},
   "source": [
    "### Data Preparation\n",
    "\n",
    "I will use a set of functions defined in the `alice` subpackage and demonstrate for a `basic_text = 'Hello world, hello all, hello world'`\n",
    "\n",
    "`word_index` = `{'hello': 1, 'world': 2, 'all': 3}`\n",
    "\n",
    "`encoded` = `[1, 2, 1, 3, 1, 2]`\n",
    "\n",
    "`X[-1]` = `[1, 2, 1, 3, 1]` -> 'Hello world, hello all, hello'\n",
    "\n",
    "`y[-1]` = `[0., 0., 1., 0.]` -> 'world'"
   ]
  },
  {
   "cell_type": "code",
   "execution_count": 2,
   "id": "b2f7fa24-e95d-4b3f-a001-d53a421425e3",
   "metadata": {
    "execution": {
     "iopub.execute_input": "2024-05-09T09:23:13.498207Z",
     "iopub.status.busy": "2024-05-09T09:23:13.497761Z",
     "iopub.status.idle": "2024-05-09T09:23:15.611572Z",
     "shell.execute_reply": "2024-05-09T09:23:15.610630Z",
     "shell.execute_reply.started": "2024-05-09T09:23:13.498179Z"
    }
   },
   "outputs": [
    {
     "name": "stderr",
     "output_type": "stream",
     "text": [
      "2024-05-09 11:23:13.792292: I tensorflow/core/platform/cpu_feature_guard.cc:210] This TensorFlow binary is optimized to use available CPU instructions in performance-critical operations.\n",
      "To enable the following instructions: AVX2 FMA, in other operations, rebuild TensorFlow with the appropriate compiler flags.\n",
      "2024-05-09 11:23:14.731588: W tensorflow/compiler/tf2tensorrt/utils/py_utils.cc:38] TF-TRT Warning: Could not find TensorRT\n"
     ]
    },
    {
     "name": "stdout",
     "output_type": "stream",
     "text": [
      "(5, 5)\n",
      "(5, 4)\n"
     ]
    }
   ],
   "source": [
    "from llm.core.alice import encode_text, create_sequences, pad_sequences_to_same_length, split_sequences, one_hot_encode_labels\n",
    "\n",
    "basic_text = 'Hello world, hello all, hello world'\n",
    "\n",
    "# Encode the text into sequences of integers and retrieve the word index\n",
    "encoded, word_index = encode_text(basic_text)\n",
    "\n",
    "# Prepare the sequences used by the Neural Network\n",
    "vocab_size = len(word_index) + 1  # Including zero index\n",
    "sequences = create_sequences(encoded)\n",
    "\n",
    "padded_sequences = pad_sequences_to_same_length(sequences)\n",
    "X, y = split_sequences(padded_sequences)\n",
    "y = one_hot_encode_labels(y, vocab_size)\n",
    "print(X.shape)\n",
    "print(y.shape)"
   ]
  },
  {
   "cell_type": "markdown",
   "id": "521c74f1-1825-48d0-a791-b0572ad489a1",
   "metadata": {
    "execution": {
     "iopub.execute_input": "2024-05-09T09:04:30.932930Z",
     "iopub.status.busy": "2024-05-09T09:04:30.932125Z",
     "iopub.status.idle": "2024-05-09T09:04:30.940561Z",
     "shell.execute_reply": "2024-05-09T09:04:30.938313Z",
     "shell.execute_reply.started": "2024-05-09T09:04:30.932883Z"
    }
   },
   "source": [
    "### Real data\n",
    "\n",
    "Let us read the first chapter of Lewis Carroll's ALICE'S ADVENTURES IN WONDERLAND"
   ]
  },
  {
   "cell_type": "code",
   "execution_count": 3,
   "id": "b7f516be-0fa0-4142-8db0-73a6ca5fb24a",
   "metadata": {
    "execution": {
     "iopub.execute_input": "2024-05-09T09:23:15.613438Z",
     "iopub.status.busy": "2024-05-09T09:23:15.612988Z",
     "iopub.status.idle": "2024-05-09T09:23:17.703404Z",
     "shell.execute_reply": "2024-05-09T09:23:17.702441Z",
     "shell.execute_reply.started": "2024-05-09T09:23:15.613409Z"
    }
   },
   "outputs": [
    {
     "name": "stdout",
     "output_type": "stream",
     "text": [
      "(280, 280)\n",
      "(280, 146)\n"
     ]
    },
    {
     "name": "stderr",
     "output_type": "stream",
     "text": [
      "[nltk_data] Downloading package punkt to /home/marco/nltk_data...\n",
      "[nltk_data]   Package punkt is already up-to-date!\n",
      "[nltk_data] Downloading package stopwords to /home/marco/nltk_data...\n",
      "[nltk_data]   Package stopwords is already up-to-date!\n"
     ]
    }
   ],
   "source": [
    "from llm.core.alice import prepare_data\n",
    "from llm.core.functions import read_text_file\n",
    "\n",
    "filepath = DATA_DIR.joinpath('alice_chap_one.txt')\n",
    "chap_one = read_text_file(filepath)\n",
    "X, y, vocab_size, max_length = prepare_data(chap_one)\n",
    "print(X.shape)\n",
    "print(y.shape)"
   ]
  },
  {
   "cell_type": "markdown",
   "id": "c3ccad0b-0137-4f74-bc39-e75022a0c70a",
   "metadata": {
    "execution": {
     "iopub.execute_input": "2024-05-09T09:06:52.115805Z",
     "iopub.status.busy": "2024-05-09T09:06:52.114932Z",
     "iopub.status.idle": "2024-05-09T09:06:52.120382Z",
     "shell.execute_reply": "2024-05-09T09:06:52.119500Z",
     "shell.execute_reply.started": "2024-05-09T09:06:52.115756Z"
    }
   },
   "source": [
    "### Create the RRN Model"
   ]
  },
  {
   "cell_type": "code",
   "execution_count": 4,
   "id": "1b26d62b-5433-4ea5-9c6e-810f75aa23db",
   "metadata": {
    "execution": {
     "iopub.execute_input": "2024-05-09T09:23:17.705373Z",
     "iopub.status.busy": "2024-05-09T09:23:17.704626Z",
     "iopub.status.idle": "2024-05-09T09:23:17.774755Z",
     "shell.execute_reply": "2024-05-09T09:23:17.773492Z",
     "shell.execute_reply.started": "2024-05-09T09:23:17.705339Z"
    }
   },
   "outputs": [
    {
     "name": "stderr",
     "output_type": "stream",
     "text": [
      "/home/marco/Desktop/ATOM/LLM/.venv/lib/python3.10/site-packages/keras/src/layers/core/embedding.py:90: UserWarning: Argument `input_length` is deprecated. Just remove it.\n",
      "  warnings.warn(\n"
     ]
    },
    {
     "data": {
      "text/html": [
       "<pre style=\"white-space:pre;overflow-x:auto;line-height:normal;font-family:Menlo,'DejaVu Sans Mono',consolas,'Courier New',monospace\"><span style=\"font-weight: bold\">Model: \"sequential\"</span>\n",
       "</pre>\n"
      ],
      "text/plain": [
       "\u001b[1mModel: \"sequential\"\u001b[0m\n"
      ]
     },
     "metadata": {},
     "output_type": "display_data"
    },
    {
     "data": {
      "text/html": [
       "<pre style=\"white-space:pre;overflow-x:auto;line-height:normal;font-family:Menlo,'DejaVu Sans Mono',consolas,'Courier New',monospace\">┏━━━━━━━━━━━━━━━━━━━━━━━━━━━━━━━━━┳━━━━━━━━━━━━━━━━━━━━━━━━┳━━━━━━━━━━━━━━━┓\n",
       "┃<span style=\"font-weight: bold\"> Layer (type)                    </span>┃<span style=\"font-weight: bold\"> Output Shape           </span>┃<span style=\"font-weight: bold\">       Param # </span>┃\n",
       "┡━━━━━━━━━━━━━━━━━━━━━━━━━━━━━━━━━╇━━━━━━━━━━━━━━━━━━━━━━━━╇━━━━━━━━━━━━━━━┩\n",
       "│ embedding (<span style=\"color: #0087ff; text-decoration-color: #0087ff\">Embedding</span>)           │ ?                      │   <span style=\"color: #00af00; text-decoration-color: #00af00\">0</span> (unbuilt) │\n",
       "├─────────────────────────────────┼────────────────────────┼───────────────┤\n",
       "│ simple_rnn (<span style=\"color: #0087ff; text-decoration-color: #0087ff\">SimpleRNN</span>)          │ ?                      │   <span style=\"color: #00af00; text-decoration-color: #00af00\">0</span> (unbuilt) │\n",
       "├─────────────────────────────────┼────────────────────────┼───────────────┤\n",
       "│ dense (<span style=\"color: #0087ff; text-decoration-color: #0087ff\">Dense</span>)                   │ ?                      │   <span style=\"color: #00af00; text-decoration-color: #00af00\">0</span> (unbuilt) │\n",
       "└─────────────────────────────────┴────────────────────────┴───────────────┘\n",
       "</pre>\n"
      ],
      "text/plain": [
       "┏━━━━━━━━━━━━━━━━━━━━━━━━━━━━━━━━━┳━━━━━━━━━━━━━━━━━━━━━━━━┳━━━━━━━━━━━━━━━┓\n",
       "┃\u001b[1m \u001b[0m\u001b[1mLayer (type)                   \u001b[0m\u001b[1m \u001b[0m┃\u001b[1m \u001b[0m\u001b[1mOutput Shape          \u001b[0m\u001b[1m \u001b[0m┃\u001b[1m \u001b[0m\u001b[1m      Param #\u001b[0m\u001b[1m \u001b[0m┃\n",
       "┡━━━━━━━━━━━━━━━━━━━━━━━━━━━━━━━━━╇━━━━━━━━━━━━━━━━━━━━━━━━╇━━━━━━━━━━━━━━━┩\n",
       "│ embedding (\u001b[38;5;33mEmbedding\u001b[0m)           │ ?                      │   \u001b[38;5;34m0\u001b[0m (unbuilt) │\n",
       "├─────────────────────────────────┼────────────────────────┼───────────────┤\n",
       "│ simple_rnn (\u001b[38;5;33mSimpleRNN\u001b[0m)          │ ?                      │   \u001b[38;5;34m0\u001b[0m (unbuilt) │\n",
       "├─────────────────────────────────┼────────────────────────┼───────────────┤\n",
       "│ dense (\u001b[38;5;33mDense\u001b[0m)                   │ ?                      │   \u001b[38;5;34m0\u001b[0m (unbuilt) │\n",
       "└─────────────────────────────────┴────────────────────────┴───────────────┘\n"
      ]
     },
     "metadata": {},
     "output_type": "display_data"
    },
    {
     "data": {
      "text/html": [
       "<pre style=\"white-space:pre;overflow-x:auto;line-height:normal;font-family:Menlo,'DejaVu Sans Mono',consolas,'Courier New',monospace\"><span style=\"font-weight: bold\"> Total params: </span><span style=\"color: #00af00; text-decoration-color: #00af00\">0</span> (0.00 B)\n",
       "</pre>\n"
      ],
      "text/plain": [
       "\u001b[1m Total params: \u001b[0m\u001b[38;5;34m0\u001b[0m (0.00 B)\n"
      ]
     },
     "metadata": {},
     "output_type": "display_data"
    },
    {
     "data": {
      "text/html": [
       "<pre style=\"white-space:pre;overflow-x:auto;line-height:normal;font-family:Menlo,'DejaVu Sans Mono',consolas,'Courier New',monospace\"><span style=\"font-weight: bold\"> Trainable params: </span><span style=\"color: #00af00; text-decoration-color: #00af00\">0</span> (0.00 B)\n",
       "</pre>\n"
      ],
      "text/plain": [
       "\u001b[1m Trainable params: \u001b[0m\u001b[38;5;34m0\u001b[0m (0.00 B)\n"
      ]
     },
     "metadata": {},
     "output_type": "display_data"
    },
    {
     "data": {
      "text/html": [
       "<pre style=\"white-space:pre;overflow-x:auto;line-height:normal;font-family:Menlo,'DejaVu Sans Mono',consolas,'Courier New',monospace\"><span style=\"font-weight: bold\"> Non-trainable params: </span><span style=\"color: #00af00; text-decoration-color: #00af00\">0</span> (0.00 B)\n",
       "</pre>\n"
      ],
      "text/plain": [
       "\u001b[1m Non-trainable params: \u001b[0m\u001b[38;5;34m0\u001b[0m (0.00 B)\n"
      ]
     },
     "metadata": {},
     "output_type": "display_data"
    }
   ],
   "source": [
    "from tensorflow.keras.models import Sequential\n",
    "from tensorflow.keras.layers import SimpleRNN, Dense, Embedding\n",
    "\n",
    "model = Sequential([\n",
    "    Embedding(vocab_size, 10, input_length=max_length-1),  # 10-dimensional embeddings\n",
    "    SimpleRNN(50),  # RNN with 50 units\n",
    "    Dense(vocab_size, activation='softmax')  # Output layer\n",
    "])\n",
    "\n",
    "model.compile(loss='categorical_crossentropy', optimizer='adam', metrics=['accuracy'])\n",
    "model.summary()\n"
   ]
  },
  {
   "cell_type": "markdown",
   "id": "cd11c5c8-058b-42cf-974c-a7d6a9e44390",
   "metadata": {},
   "source": [
    "### Train the model"
   ]
  },
  {
   "cell_type": "code",
   "execution_count": 5,
   "id": "8aee71ac-a5dd-48cc-92df-334a00c48bba",
   "metadata": {
    "execution": {
     "iopub.execute_input": "2024-05-09T09:23:17.777280Z",
     "iopub.status.busy": "2024-05-09T09:23:17.776157Z",
     "iopub.status.idle": "2024-05-09T09:24:17.325174Z",
     "shell.execute_reply": "2024-05-09T09:24:17.324276Z",
     "shell.execute_reply.started": "2024-05-09T09:23:17.777232Z"
    }
   },
   "outputs": [
    {
     "name": "stdout",
     "output_type": "stream",
     "text": [
      "Epoch 1/100\n",
      "9/9 - 2s - 251ms/step - accuracy: 0.0071 - loss: 4.9898\n",
      "Epoch 2/100\n",
      "9/9 - 0s - 54ms/step - accuracy: 0.0214 - loss: 4.9531\n",
      "Epoch 3/100\n",
      "9/9 - 0s - 46ms/step - accuracy: 0.0321 - loss: 4.9215\n",
      "Epoch 4/100\n",
      "9/9 - 0s - 45ms/step - accuracy: 0.0500 - loss: 4.8871\n",
      "Epoch 5/100\n",
      "9/9 - 0s - 46ms/step - accuracy: 0.0571 - loss: 4.8530\n",
      "Epoch 6/100\n",
      "9/9 - 1s - 66ms/step - accuracy: 0.0679 - loss: 4.8137\n",
      "Epoch 7/100\n",
      "9/9 - 0s - 45ms/step - accuracy: 0.0607 - loss: 4.7798\n",
      "Epoch 8/100\n",
      "9/9 - 0s - 46ms/step - accuracy: 0.0786 - loss: 4.7324\n",
      "Epoch 9/100\n",
      "9/9 - 0s - 48ms/step - accuracy: 0.0679 - loss: 4.6810\n",
      "Epoch 10/100\n",
      "9/9 - 0s - 47ms/step - accuracy: 0.0714 - loss: 4.6468\n",
      "Epoch 11/100\n",
      "9/9 - 0s - 53ms/step - accuracy: 0.0679 - loss: 4.5967\n",
      "Epoch 12/100\n",
      "9/9 - 1s - 65ms/step - accuracy: 0.0464 - loss: 4.5482\n",
      "Epoch 13/100\n",
      "9/9 - 0s - 49ms/step - accuracy: 0.0571 - loss: 4.5023\n",
      "Epoch 14/100\n",
      "9/9 - 1s - 66ms/step - accuracy: 0.0714 - loss: 4.4677\n",
      "Epoch 15/100\n",
      "9/9 - 0s - 49ms/step - accuracy: 0.0964 - loss: 4.4179\n",
      "Epoch 16/100\n",
      "9/9 - 0s - 48ms/step - accuracy: 0.0714 - loss: 4.3901\n",
      "Epoch 17/100\n",
      "9/9 - 1s - 59ms/step - accuracy: 0.0750 - loss: 4.3399\n",
      "Epoch 18/100\n",
      "9/9 - 1s - 97ms/step - accuracy: 0.0679 - loss: 4.3058\n",
      "Epoch 19/100\n",
      "9/9 - 1s - 111ms/step - accuracy: 0.0893 - loss: 4.2396\n",
      "Epoch 20/100\n",
      "9/9 - 1s - 75ms/step - accuracy: 0.0929 - loss: 4.1938\n",
      "Epoch 21/100\n",
      "9/9 - 1s - 115ms/step - accuracy: 0.0857 - loss: 4.1437\n",
      "Epoch 22/100\n",
      "9/9 - 0s - 52ms/step - accuracy: 0.1000 - loss: 4.0974\n",
      "Epoch 23/100\n",
      "9/9 - 1s - 85ms/step - accuracy: 0.0893 - loss: 4.0533\n",
      "Epoch 24/100\n",
      "9/9 - 1s - 64ms/step - accuracy: 0.1143 - loss: 3.9999\n",
      "Epoch 25/100\n",
      "9/9 - 0s - 49ms/step - accuracy: 0.1286 - loss: 3.9502\n",
      "Epoch 26/100\n",
      "9/9 - 1s - 66ms/step - accuracy: 0.1179 - loss: 3.8984\n",
      "Epoch 27/100\n",
      "9/9 - 1s - 68ms/step - accuracy: 0.1536 - loss: 3.8513\n",
      "Epoch 28/100\n",
      "9/9 - 0s - 49ms/step - accuracy: 0.1500 - loss: 3.7709\n",
      "Epoch 29/100\n",
      "9/9 - 0s - 50ms/step - accuracy: 0.1786 - loss: 3.7164\n",
      "Epoch 30/100\n",
      "9/9 - 1s - 109ms/step - accuracy: 0.1821 - loss: 3.6639\n",
      "Epoch 31/100\n",
      "9/9 - 1s - 102ms/step - accuracy: 0.1821 - loss: 3.6003\n",
      "Epoch 32/100\n",
      "9/9 - 1s - 119ms/step - accuracy: 0.2393 - loss: 3.5417\n",
      "Epoch 33/100\n",
      "9/9 - 1s - 59ms/step - accuracy: 0.2214 - loss: 3.4765\n",
      "Epoch 34/100\n",
      "9/9 - 0s - 54ms/step - accuracy: 0.3107 - loss: 3.4129\n",
      "Epoch 35/100\n",
      "9/9 - 0s - 50ms/step - accuracy: 0.2964 - loss: 3.3390\n",
      "Epoch 36/100\n",
      "9/9 - 0s - 53ms/step - accuracy: 0.3071 - loss: 3.2735\n",
      "Epoch 37/100\n",
      "9/9 - 0s - 53ms/step - accuracy: 0.3607 - loss: 3.2116\n",
      "Epoch 38/100\n",
      "9/9 - 1s - 66ms/step - accuracy: 0.3571 - loss: 3.1425\n",
      "Epoch 39/100\n",
      "9/9 - 0s - 48ms/step - accuracy: 0.4214 - loss: 3.0764\n",
      "Epoch 40/100\n",
      "9/9 - 0s - 52ms/step - accuracy: 0.4036 - loss: 3.0097\n",
      "Epoch 41/100\n",
      "9/9 - 1s - 59ms/step - accuracy: 0.4643 - loss: 2.9398\n",
      "Epoch 42/100\n",
      "9/9 - 1s - 57ms/step - accuracy: 0.4821 - loss: 2.8773\n",
      "Epoch 43/100\n",
      "9/9 - 0s - 54ms/step - accuracy: 0.4964 - loss: 2.8113\n",
      "Epoch 44/100\n",
      "9/9 - 1s - 67ms/step - accuracy: 0.5071 - loss: 2.7457\n",
      "Epoch 45/100\n",
      "9/9 - 1s - 66ms/step - accuracy: 0.5357 - loss: 2.6815\n",
      "Epoch 46/100\n",
      "9/9 - 0s - 55ms/step - accuracy: 0.5643 - loss: 2.6199\n",
      "Epoch 47/100\n",
      "9/9 - 1s - 68ms/step - accuracy: 0.5500 - loss: 2.5686\n",
      "Epoch 48/100\n",
      "9/9 - 0s - 55ms/step - accuracy: 0.6357 - loss: 2.5119\n",
      "Epoch 49/100\n",
      "9/9 - 1s - 57ms/step - accuracy: 0.5929 - loss: 2.4458\n",
      "Epoch 50/100\n",
      "9/9 - 1s - 65ms/step - accuracy: 0.6429 - loss: 2.3749\n",
      "Epoch 51/100\n",
      "9/9 - 1s - 58ms/step - accuracy: 0.6429 - loss: 2.3087\n",
      "Epoch 52/100\n",
      "9/9 - 1s - 67ms/step - accuracy: 0.6821 - loss: 2.2432\n",
      "Epoch 53/100\n",
      "9/9 - 1s - 58ms/step - accuracy: 0.6857 - loss: 2.1832\n",
      "Epoch 54/100\n",
      "9/9 - 1s - 74ms/step - accuracy: 0.6821 - loss: 2.1273\n",
      "Epoch 55/100\n",
      "9/9 - 1s - 61ms/step - accuracy: 0.6893 - loss: 2.0718\n",
      "Epoch 56/100\n",
      "9/9 - 1s - 57ms/step - accuracy: 0.7107 - loss: 2.0071\n",
      "Epoch 57/100\n",
      "9/9 - 1s - 69ms/step - accuracy: 0.7179 - loss: 1.9575\n",
      "Epoch 58/100\n",
      "9/9 - 1s - 57ms/step - accuracy: 0.7179 - loss: 1.9004\n",
      "Epoch 59/100\n",
      "9/9 - 1s - 56ms/step - accuracy: 0.7679 - loss: 1.8499\n",
      "Epoch 60/100\n",
      "9/9 - 1s - 59ms/step - accuracy: 0.7679 - loss: 1.7928\n",
      "Epoch 61/100\n",
      "9/9 - 1s - 62ms/step - accuracy: 0.7821 - loss: 1.7452\n",
      "Epoch 62/100\n",
      "9/9 - 1s - 59ms/step - accuracy: 0.7929 - loss: 1.6945\n",
      "Epoch 63/100\n",
      "9/9 - 0s - 55ms/step - accuracy: 0.8000 - loss: 1.6445\n",
      "Epoch 64/100\n",
      "9/9 - 1s - 58ms/step - accuracy: 0.8214 - loss: 1.6099\n",
      "Epoch 65/100\n",
      "9/9 - 1s - 61ms/step - accuracy: 0.8107 - loss: 1.5469\n",
      "Epoch 66/100\n",
      "9/9 - 1s - 61ms/step - accuracy: 0.8286 - loss: 1.5035\n",
      "Epoch 67/100\n",
      "9/9 - 1s - 56ms/step - accuracy: 0.8393 - loss: 1.4615\n",
      "Epoch 68/100\n",
      "9/9 - 1s - 69ms/step - accuracy: 0.8429 - loss: 1.4096\n",
      "Epoch 69/100\n",
      "9/9 - 1s - 58ms/step - accuracy: 0.8500 - loss: 1.3734\n",
      "Epoch 70/100\n",
      "9/9 - 0s - 52ms/step - accuracy: 0.8714 - loss: 1.3266\n",
      "Epoch 71/100\n",
      "9/9 - 1s - 65ms/step - accuracy: 0.8821 - loss: 1.2896\n",
      "Epoch 72/100\n",
      "9/9 - 0s - 52ms/step - accuracy: 0.8857 - loss: 1.2492\n",
      "Epoch 73/100\n",
      "9/9 - 1s - 57ms/step - accuracy: 0.9036 - loss: 1.2110\n",
      "Epoch 74/100\n",
      "9/9 - 0s - 53ms/step - accuracy: 0.9071 - loss: 1.1699\n",
      "Epoch 75/100\n",
      "9/9 - 0s - 55ms/step - accuracy: 0.9107 - loss: 1.1390\n",
      "Epoch 76/100\n",
      "9/9 - 1s - 72ms/step - accuracy: 0.9143 - loss: 1.1026\n",
      "Epoch 77/100\n",
      "9/9 - 1s - 104ms/step - accuracy: 0.9214 - loss: 1.0670\n",
      "Epoch 78/100\n",
      "9/9 - 1s - 112ms/step - accuracy: 0.9214 - loss: 1.0344\n",
      "Epoch 79/100\n",
      "9/9 - 1s - 115ms/step - accuracy: 0.9179 - loss: 0.9986\n",
      "Epoch 80/100\n",
      "9/9 - 1s - 145ms/step - accuracy: 0.9250 - loss: 0.9698\n",
      "Epoch 81/100\n",
      "9/9 - 1s - 78ms/step - accuracy: 0.9393 - loss: 0.9411\n",
      "Epoch 82/100\n",
      "9/9 - 1s - 67ms/step - accuracy: 0.9357 - loss: 0.9119\n",
      "Epoch 83/100\n",
      "9/9 - 1s - 89ms/step - accuracy: 0.9429 - loss: 0.8868\n",
      "Epoch 84/100\n",
      "9/9 - 1s - 74ms/step - accuracy: 0.9464 - loss: 0.8603\n",
      "Epoch 85/100\n",
      "9/9 - 1s - 57ms/step - accuracy: 0.9500 - loss: 0.8349\n",
      "Epoch 86/100\n",
      "9/9 - 1s - 62ms/step - accuracy: 0.9536 - loss: 0.8096\n",
      "Epoch 87/100\n",
      "9/9 - 0s - 54ms/step - accuracy: 0.9607 - loss: 0.7853\n",
      "Epoch 88/100\n",
      "9/9 - 1s - 59ms/step - accuracy: 0.9607 - loss: 0.7568\n",
      "Epoch 89/100\n",
      "9/9 - 0s - 49ms/step - accuracy: 0.9679 - loss: 0.7330\n",
      "Epoch 90/100\n",
      "9/9 - 0s - 54ms/step - accuracy: 0.9679 - loss: 0.7132\n",
      "Epoch 91/100\n",
      "9/9 - 1s - 56ms/step - accuracy: 0.9821 - loss: 0.6908\n",
      "Epoch 92/100\n",
      "9/9 - 0s - 55ms/step - accuracy: 0.9857 - loss: 0.6687\n",
      "Epoch 93/100\n",
      "9/9 - 1s - 60ms/step - accuracy: 0.9857 - loss: 0.6504\n",
      "Epoch 94/100\n",
      "9/9 - 0s - 54ms/step - accuracy: 0.9857 - loss: 0.6319\n",
      "Epoch 95/100\n",
      "9/9 - 1s - 56ms/step - accuracy: 0.9929 - loss: 0.6095\n",
      "Epoch 96/100\n",
      "9/9 - 0s - 55ms/step - accuracy: 0.9929 - loss: 0.5943\n",
      "Epoch 97/100\n",
      "9/9 - 0s - 51ms/step - accuracy: 0.9929 - loss: 0.5757\n",
      "Epoch 98/100\n",
      "9/9 - 0s - 54ms/step - accuracy: 0.9929 - loss: 0.5602\n",
      "Epoch 99/100\n",
      "9/9 - 0s - 53ms/step - accuracy: 0.9929 - loss: 0.5433\n",
      "Epoch 100/100\n",
      "9/9 - 1s - 58ms/step - accuracy: 0.9929 - loss: 0.5283\n"
     ]
    },
    {
     "data": {
      "text/plain": [
       "<keras.src.callbacks.history.History at 0x71b0fe82a890>"
      ]
     },
     "execution_count": 5,
     "metadata": {},
     "output_type": "execute_result"
    }
   ],
   "source": [
    "model.fit(X, y, epochs=100, verbose=2)"
   ]
  },
  {
   "cell_type": "markdown",
   "id": "4312d750-e3eb-47a8-b15c-a2f629a3f81a",
   "metadata": {},
   "source": [
    "### Generate Text"
   ]
  },
  {
   "cell_type": "code",
   "execution_count": 6,
   "id": "633f678a-1f7b-4439-a8ce-37fa2ba74993",
   "metadata": {
    "execution": {
     "iopub.execute_input": "2024-05-09T09:24:17.328326Z",
     "iopub.status.busy": "2024-05-09T09:24:17.327717Z",
     "iopub.status.idle": "2024-05-09T09:24:17.332256Z",
     "shell.execute_reply": "2024-05-09T09:24:17.331177Z",
     "shell.execute_reply.started": "2024-05-09T09:24:17.328294Z"
    }
   },
   "outputs": [],
   "source": [
    "from llm.core.alice import generate_text"
   ]
  },
  {
   "cell_type": "code",
   "execution_count": 7,
   "id": "8583bf91-20a9-4a02-8e5c-7bdaa4e6e6f3",
   "metadata": {
    "execution": {
     "iopub.execute_input": "2024-05-09T09:24:17.334159Z",
     "iopub.status.busy": "2024-05-09T09:24:17.333540Z",
     "iopub.status.idle": "2024-05-09T09:24:17.342904Z",
     "shell.execute_reply": "2024-05-09T09:24:17.341757Z",
     "shell.execute_reply.started": "2024-05-09T09:24:17.334121Z"
    }
   },
   "outputs": [],
   "source": [
    "real_text = ('The rabbit-hole went straight on like a tunnel for some way,'\n",
    "    'and then dipped suddenly down, so suddenly that Alice had not a'\n",
    "    'moment to think about stopping herself before she found herself'\n",
    "    'falling down a very deep well.')"
   ]
  },
  {
   "cell_type": "code",
   "execution_count": 8,
   "id": "e8179425-0ad6-4d5b-82d1-6384b4039230",
   "metadata": {
    "execution": {
     "iopub.execute_input": "2024-05-09T09:24:17.346034Z",
     "iopub.status.busy": "2024-05-09T09:24:17.345177Z",
     "iopub.status.idle": "2024-05-09T09:24:17.352257Z",
     "shell.execute_reply": "2024-05-09T09:24:17.351361Z",
     "shell.execute_reply.started": "2024-05-09T09:24:17.345992Z"
    }
   },
   "outputs": [
    {
     "data": {
      "text/plain": [
       "36"
      ]
     },
     "execution_count": 8,
     "metadata": {},
     "output_type": "execute_result"
    }
   ],
   "source": [
    "(len(real_text.split()))"
   ]
  },
  {
   "cell_type": "code",
   "execution_count": 11,
   "id": "21be82a2-16ff-48f6-9bec-5816f3790718",
   "metadata": {
    "execution": {
     "iopub.execute_input": "2024-05-09T09:26:18.960605Z",
     "iopub.status.busy": "2024-05-09T09:26:18.959690Z",
     "iopub.status.idle": "2024-05-09T09:26:19.897473Z",
     "shell.execute_reply": "2024-05-09T09:26:19.895875Z",
     "shell.execute_reply.started": "2024-05-09T09:26:18.960559Z"
    }
   },
   "outputs": [
    {
     "name": "stdout",
     "output_type": "stream",
     "text": [
      "\u001b[1m1/1\u001b[0m \u001b[32m━━━━━━━━━━━━━━━━━━━━\u001b[0m\u001b[37m\u001b[0m \u001b[1m0s\u001b[0m 34ms/step\n",
      "\u001b[1m1/1\u001b[0m \u001b[32m━━━━━━━━━━━━━━━━━━━━\u001b[0m\u001b[37m\u001b[0m \u001b[1m0s\u001b[0m 26ms/step\n",
      "\u001b[1m1/1\u001b[0m \u001b[32m━━━━━━━━━━━━━━━━━━━━\u001b[0m\u001b[37m\u001b[0m \u001b[1m0s\u001b[0m 26ms/step\n",
      "\u001b[1m1/1\u001b[0m \u001b[32m━━━━━━━━━━━━━━━━━━━━\u001b[0m\u001b[37m\u001b[0m \u001b[1m0s\u001b[0m 29ms/step\n",
      "\u001b[1m1/1\u001b[0m \u001b[32m━━━━━━━━━━━━━━━━━━━━\u001b[0m\u001b[37m\u001b[0m \u001b[1m0s\u001b[0m 24ms/step\n",
      "\u001b[1m1/1\u001b[0m \u001b[32m━━━━━━━━━━━━━━━━━━━━\u001b[0m\u001b[37m\u001b[0m \u001b[1m0s\u001b[0m 32ms/step\n",
      "\u001b[1m1/1\u001b[0m \u001b[32m━━━━━━━━━━━━━━━━━━━━\u001b[0m\u001b[37m\u001b[0m \u001b[1m0s\u001b[0m 21ms/step\n",
      "\u001b[1m1/1\u001b[0m \u001b[32m━━━━━━━━━━━━━━━━━━━━\u001b[0m\u001b[37m\u001b[0m \u001b[1m0s\u001b[0m 27ms/step\n",
      "\u001b[1m1/1\u001b[0m \u001b[32m━━━━━━━━━━━━━━━━━━━━\u001b[0m\u001b[37m\u001b[0m \u001b[1m0s\u001b[0m 34ms/step\n",
      "\u001b[1m1/1\u001b[0m \u001b[32m━━━━━━━━━━━━━━━━━━━━\u001b[0m\u001b[37m\u001b[0m \u001b[1m0s\u001b[0m 25ms/step\n"
     ]
    },
    {
     "data": {
      "text/plain": [
       "'The rabbit-hole went          '"
      ]
     },
     "execution_count": 11,
     "metadata": {},
     "output_type": "execute_result"
    }
   ],
   "source": [
    "generate_text(\"The rabbit-hole went\", 10, model, 10)"
   ]
  },
  {
   "cell_type": "code",
   "execution_count": null,
   "id": "e81fadfc-b7c6-473d-a70b-eb8a327a49a4",
   "metadata": {},
   "outputs": [],
   "source": []
  }
 ],
 "metadata": {
  "kernelspec": {
   "display_name": "Python 3 (ipykernel)",
   "language": "python",
   "name": "python3"
  },
  "language_info": {
   "codemirror_mode": {
    "name": "ipython",
    "version": 3
   },
   "file_extension": ".py",
   "mimetype": "text/x-python",
   "name": "python",
   "nbconvert_exporter": "python",
   "pygments_lexer": "ipython3",
   "version": "3.10.12"
  }
 },
 "nbformat": 4,
 "nbformat_minor": 5
}
